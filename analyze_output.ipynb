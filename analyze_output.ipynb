{
 "cells": [
  {
   "cell_type": "code",
   "execution_count": 35,
   "metadata": {},
   "outputs": [],
   "source": [
    "import os\n",
    "import pandas as pd\n",
    "import numpy as np\n",
    "\n",
    "from scipy.stats import pearsonr\n",
    "\n",
    "from Scripts.video import get_frame_information"
   ]
  },
  {
   "cell_type": "code",
   "execution_count": 36,
   "metadata": {},
   "outputs": [],
   "source": [
    "# global directory path variables. make these your folder names under MCS\n",
    "iCatcher_dir = 'iCatcherOutput'\n",
    "Datavyu_in = 'InputFiles'\n",
    "Datavyu_out = 'OutputFiles'\n",
    "vid_dir = '../TEMP_video'"
   ]
  },
  {
   "cell_type": "markdown",
   "metadata": {},
   "source": [
    "## Helper functions"
   ]
  },
  {
   "cell_type": "code",
   "execution_count": 37,
   "metadata": {},
   "outputs": [],
   "source": [
    "def get_input_output(filename):\n",
    "    \"\"\"\n",
    "    Returns the filenames for the input and output Datavyu files\n",
    "    corresponding to the iCatcher video coded in filename\n",
    "    \n",
    "    filename (string): name of tabulated iCatcher output file in format\n",
    "    '[CHILD_ID]_annotation.txt'\n",
    "    rtype: List[string]\n",
    "    \"\"\"\n",
    "    child_id = filename.split('_')[0]\n",
    "    input_output = []\n",
    "    \n",
    "    # search for corresponding input file in Datavyu folder\n",
    "    for folder in [Datavyu_in, Datavyu_out]:\n",
    "        for f in os.listdir(folder):\n",
    "            if child_id in f:\n",
    "                input_output.append(f)\n",
    "                break\n",
    "    if len(input_output) < 2:\n",
    "        raise Exception('Missing Datavyu files for {}.'.format(child_id))\n",
    "    return input_output\n",
    "    "
   ]
  },
  {
   "cell_type": "code",
   "execution_count": 82,
   "metadata": {},
   "outputs": [],
   "source": [
    "def read_convert_output(filename, stamps):\n",
    "    \"\"\"\n",
    "    Given a tabular data file containing columns for frames and looks,\n",
    "    converts to pandas DataFrame with another column mapping each frame\n",
    "    to its time stamp in the video\n",
    "    \n",
    "    filename (string): name of tabulated iCatcher output file in format\n",
    "    '[CHILD_ID]_annotation.txt'\n",
    "    stamps (List[int]): time stamp for each frame, where stamps[i] is the \n",
    "    time stamp at frame i\n",
    "    rtype: DataFrame\n",
    "    \"\"\"\n",
    "    df = pd.read_csv(filename, names = ['frame', 'on_off'])\n",
    "    \n",
    "    # convert frames to ms using frame rate\n",
    "    df['time_ms'] = df['frame'].apply(lambda x: timestamps[x])\n",
    "    df['time_ms'] = df['time_ms'].astype(int)\n",
    "    \n",
    "    df['on_off'] = df['on_off'].apply(lambda x: x.strip())\n",
    "    # df['time'] = df['frame'].apply(lambda x: pd.to_datetime(x / frame_rate, unit='s').strftime('%H:%M:%S.%f'))\n",
    "    \n",
    "    return df"
   ]
  },
  {
   "cell_type": "code",
   "execution_count": 5,
   "metadata": {},
   "outputs": [],
   "source": [
    "def get_trial_sets(input_file):\n",
    "    \"\"\"\n",
    "    Finds corresponding Datavyu input file for given iCatcher output file\n",
    "    and returns a list of [onset, offset] times for each trial in \n",
    "    milliseconds\n",
    "    \n",
    "    input_file (string): name of Datavyu input file\n",
    "    rtype: List[List[int]]\n",
    "    \"\"\"\n",
    "    input_file = Datavyu_in + '/' + input_file\n",
    "    df = pd.read_csv(input_file)\n",
    "    df_sets = df[['Trials.onset', 'Trials.offset']]\n",
    "    df_sets.dropna(inplace=True)\n",
    "     \n",
    "    trial_sets = []\n",
    "    for _, trial in df_sets.iterrows():\n",
    "        trial_sets.append([int(trial['Trials.onset']), int(trial['Trials.offset'])])\n",
    "    \n",
    "    return trial_sets"
   ]
  },
  {
   "cell_type": "code",
   "execution_count": 6,
   "metadata": {},
   "outputs": [],
   "source": [
    "def assign_trial(df, trial_sets):\n",
    "    \"\"\"\n",
    "    Given trial onsets and offsets, makes a 'trial' column in df mapping indicating\n",
    "    which trial each frame belongs in, or 0 if no trial\n",
    "    \n",
    "    df (DataFrame): pandas Dataframe with time information\n",
    "    trial_sets (List[List[int]]): list of trial [onset, offset] pairs in ms\n",
    "    rtype: None\n",
    "    \"\"\"\n",
    "    \n",
    "    # mapping function\n",
    "    def map_to_range(value, ranges):\n",
    "        \"\"\"\n",
    "        Modifies df to have a column mapping value to one of the ranges provided, or 0 if not \n",
    "\n",
    "        \"\"\"\n",
    "        for start, end in ranges:\n",
    "            if value in range(start, end + 1): \n",
    "                return ranges.index([start, end]) + 1\n",
    "        return 0\n",
    "    \n",
    "    df['trial'] = df['time_ms'].apply(lambda x: map_to_range(x, trial_sets))\n",
    "    \n",
    "    "
   ]
  },
  {
   "cell_type": "code",
   "execution_count": 98,
   "metadata": {},
   "outputs": [],
   "source": [
    "def get_on_off_times(df):\n",
    "    \"\"\"\n",
    "    Calculates the total on and off look times per trial and returns a list of \n",
    "    [on time, off time] pairs for each trial in seconds\n",
    "    \n",
    "    df (DataFrame): DataFrame containing trial information per frame\n",
    "    stamps (List[int]): time stamp for each frame, where stamps[i] is the \n",
    "    time stamp at frame i\n",
    "    rtype: List[List[float]]\n",
    "    \"\"\"\n",
    "    n_trials = len(pd.unique(df['trial']))\n",
    "    looking_times = [[0, 0] for trial in range(n_trials - 1)]\n",
    "    \n",
    "    # separate times by trial\n",
    "    trial_groups = df.groupby(['trial'])\n",
    "    for trial_num, group in trial_groups:\n",
    "        # 0 means does not belong in a trial\n",
    "        if trial_num == 0:\n",
    "            continue\n",
    "\n",
    "        last_look, start_time = None, None\n",
    "\n",
    "        for index, row in group.iterrows():\n",
    "            time, look = row['time_ms'], row['on_off']\n",
    "\n",
    "            # start of on or off look\n",
    "            if not(last_look and start_time):\n",
    "                last_look, start_time = look, time\n",
    "                look_time = 0\n",
    "\n",
    "            if look == last_look:\n",
    "                look_time = (time - start_time) / 1000\n",
    "\n",
    "            # end of a look or end of trial\n",
    "            else:\n",
    "                ind = ['on', 'off'].index(last_look)\n",
    "                looking_times[trial_num - 1][ind] += look_time\n",
    "\n",
    "                # reset values\n",
    "                last_look, start_time = None, None\n",
    "\n",
    "        # special case where entire trial is one look\n",
    "        if last_look and start_time:\n",
    "                ind = ['on', 'off'].index(last_look)\n",
    "                looking_times[trial_num - 1][ind] += look_time   \n",
    "\n",
    "    looking_times = [[round(on, 3), round(off, 3)] for on, off in looking_times]\n",
    "    \n",
    "    return looking_times"
   ]
  },
  {
   "cell_type": "code",
   "execution_count": 8,
   "metadata": {},
   "outputs": [],
   "source": [
    "def get_output_times(output_file):\n",
    "    \"\"\"\n",
    "    Finds corresponding Datavyu output file for given iCatcher output file\n",
    "    and returns a list of [on times, off times] for each trial in \n",
    "    seconds\n",
    "    \n",
    "    output_file (string): name of Datavyu output file\n",
    "    rtype: List[List[int]]\n",
    "    \"\"\"\n",
    "    output_file = Datavyu_out + '/' + output_file\n",
    "    df = pd.read_csv(output_file)\n",
    "    df_looks = df[['Looks On Total (s)', 'Looks Off Total (s)']]\n",
    "    df_looks.dropna(inplace=True)\n",
    "     \n",
    "    looking_times = []\n",
    "    for _, trial in df_looks.iterrows():\n",
    "        looking_times.append([round(trial['Looks On Total (s)'], 3), round(trial['Looks Off Total (s)'], 3)])\n",
    "    \n",
    "    return looking_times\n",
    "    \n",
    "    "
   ]
  },
  {
   "cell_type": "markdown",
   "metadata": {},
   "source": [
    "### Comparison metrics"
   ]
  },
  {
   "cell_type": "markdown",
   "metadata": {},
   "source": [
    "## Run analysis "
   ]
  },
  {
   "cell_type": "code",
   "execution_count": 102,
   "metadata": {},
   "outputs": [],
   "source": [
    "def run_analyze_output():\n",
    "    for filename in os.listdir(iCatcher_dir):\n",
    "            input_file, output_file = get_input_output(filename)\n",
    "            child_id = filename.split('_')[0]\n",
    "            \n",
    "            # get timestamp for each frame in the video\n",
    "            vid_path = vid_dir + '/' + child_id + \".mp4\"\n",
    "            print(vid_path)\n",
    "            timestamps, length, _ = get_frame_information(vid_path)\n",
    "            \n",
    "            # initialize df with time stamps for iCatcher file\n",
    "            icatcher_path = iCatcher_dir + '/' + filename\n",
    "            icatcher = read_convert_output(icatcher_path, timestamps)\n",
    "\n",
    "            # get trial onsets and offsets in Datavyu input file, match to iCatcher file\n",
    "            trial_sets = get_trial_sets(input_file)\n",
    "            assign_trial(icatcher, trial_sets)\n",
    "            \n",
    "            # sum on looks and off looks for each trial\n",
    "            icatcher_times = get_on_off_times(icatcher)\n",
    "            datavyu_times = get_output_times(output_file)\n",
    "            \n",
    "            # return comparison metrics \n",
    "            icatcher_arr, datavyu_arr = np.array(icatcher_times).flatten(), np.array(datavyu_times).flatten()\n",
    "            stat, p = pearsonr(icatcher_arr, datavyu_arr)\n",
    "            print('Datavyu total on-off looks per trial: \\n', datavyu_times)\n",
    "            print('iCatcher total on-off looks per trial: \\n', icatcher_times)\n",
    "            print('Pearson R coefficient: {} \\np-value: {}'.format(round(stat, 3), round(p, 3)))\n",
    "            "
   ]
  },
  {
   "cell_type": "code",
   "execution_count": 103,
   "metadata": {},
   "outputs": [
    {
     "name": "stdout",
     "output_type": "stream",
     "text": [
      "../TEMP_video/NFYDcF.mp4\n"
     ]
    },
    {
     "name": "stderr",
     "output_type": "stream",
     "text": [
      "/Users/gracesong/opt/anaconda3/lib/python3.7/site-packages/ipykernel_launcher.py:13: SettingWithCopyWarning: \n",
      "A value is trying to be set on a copy of a slice from a DataFrame\n",
      "\n",
      "See the caveats in the documentation: https://pandas.pydata.org/pandas-docs/stable/user_guide/indexing.html#returning-a-view-versus-a-copy\n",
      "  del sys.path[0]\n"
     ]
    },
    {
     "name": "stdout",
     "output_type": "stream",
     "text": [
      "Datavyu total on-off looks per trial: \n",
      " [[48.994, 0.0], [33.15, 8.636], [42.5, 3.162], [40.596, 5.474], [30.865, 6.569], [13.362, 1.19], [15.13, 2.754], [15.504, 5.814], [19.652, 8.942], [38.114, 19.55], [7.31, 4.93], [7.48, 0.992]]\n",
      "iCatcher total on-off looks per trial: \n",
      " [[48.432, 0.272], [33.668, 7.516], [45.629, 0], [39.764, 5.838], [32.522, 3.941], [11.598, 2.382], [15.789, 1.779], [12.082, 8.255], [19.851, 7.347], [42.996, 12.359], [7.664, 3.453], [6.125, 2.226]]\n",
      "Pearson R coefficient: 0.989 \n",
      "p-value: 0.0\n"
     ]
    }
   ],
   "source": [
    "run_analyze_output()"
   ]
  },
  {
   "cell_type": "code",
   "execution_count": null,
   "metadata": {},
   "outputs": [],
   "source": []
  }
 ],
 "metadata": {
  "kernelspec": {
   "display_name": "Python 3",
   "language": "python",
   "name": "python3"
  },
  "language_info": {
   "codemirror_mode": {
    "name": "ipython",
    "version": 3
   },
   "file_extension": ".py",
   "mimetype": "text/x-python",
   "name": "python",
   "nbconvert_exporter": "python",
   "pygments_lexer": "ipython3",
   "version": "3.7.6"
  }
 },
 "nbformat": 4,
 "nbformat_minor": 4
}
